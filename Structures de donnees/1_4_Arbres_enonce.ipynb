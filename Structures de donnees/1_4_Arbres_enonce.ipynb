{
 "cells": [
  {
   "cell_type": "markdown",
   "metadata": {
    "id": "IxCT5PRVt5v9"
   },
   "source": [
    "<h2><b><font color=\"orange\"> ARBRES</font></b></h2>\n",
    "<hr color=\"orange\">\n",
    "\n",
    "\n"
   ]
  },
  {
   "cell_type": "markdown",
   "metadata": {
    "id": "hDCoj2tXuEcu"
   },
   "source": [
    "<h2><font color=\"orange\"><b>EXERCICE 1</b></font></h2>\n",
    "<hr color=\"orange\">\n",
    "<ol>\n",
    "<li>Ecrire le code de la classe <code>Node</code> qui représente un noeud de l'arbre.</li>\n",
    "<li>Ecrire le code qui crée l'arbre représenté dans l'exercice 4 de la feuille. Le visualiser sur PythonTutor.</li>\n",
    "<li>Ecrire le code d'un autre arbre de votre choix.</li>\n",
    "<li>Ecrire le code qui fusionne les deux arbres avec une racine nommée R.</li>\n",
    "</ol>\n"
   ]
  },
  {
   "cell_type": "code",
   "execution_count": 17,
   "metadata": {
    "id": "L4PELQFEszjv"
   },
   "outputs": [
    {
     "name": "stdout",
     "output_type": "stream",
     "text": [
      "5\n"
     ]
    }
   ],
   "source": [
    "class Node:\n",
    "    def __init__(self, value, left, right):\n",
    "        self.value = value\n",
    "        self.left = left\n",
    "        self.right = right\n",
    "\n",
    "\n",
    "class Tree:\n",
    "\n",
    "    def __init__(self):\n",
    "        self.root = Node(None, None, None)\n",
    "\n",
    "    \n",
    "    def taille(self, current):\n",
    "        if current is None:\n",
    "            return 0\n",
    "        else:\n",
    "            return 1 + self.taille(current.right) + self.taille(current.left)    \n",
    "\n",
    "    def hauteur(self, current, n=0):\n",
    "        if current is None:\n",
    "            return n\n",
    "        else :\n",
    "            return max(self.hauteur(current.right, n+1), self.hauteur(current.left, n+1))\n",
    "\n",
    "\n",
    "\n",
    "tree = Tree()\n",
    "\n",
    "tree.root = Node(20, None, None)\n",
    "tree.root.left = Node(5, Node(3, None, None), Node(12, Node(8, Node(6, None, None), None), Node(13, None, None)))\n",
    "tree.root.right = Node(25, Node(21, None, None), Node(28, None, None))\n",
    "\n",
    "root = tree.root\n",
    "\n",
    "print(tree.hauteur(root))\n",
    "\n"
   ]
  },
  {
   "cell_type": "markdown",
   "metadata": {
    "id": "-ZdsHjyWQWEw"
   },
   "source": [
    "<h2><font color=\"orange\"><b>EXERCICE 2</b></font></h2>\n",
    "<hr color=\"orange\">\n",
    "<ol>\n",
    "<li>Ecrire le code de la fonction <code>taille</code> qui calcule (<b>récursivement</b>) la taille d'un arbre. \n",
    "<li>Ecrire le code de la fonction <code>hauteur</code> qui calcule (<b>récursivement</b>) la hauteur d'un arbre. \n",
    "<li>Tester ces fonctions sur les exemples de l'exercice 1.</li>\n",
    "</ol>\n"
   ]
  },
  {
   "cell_type": "code",
   "execution_count": null,
   "metadata": {
    "id": "AkEPsGZnRAlK"
   },
   "outputs": [],
   "source": []
  },
  {
   "cell_type": "markdown",
   "metadata": {
    "id": "pgfQsmZrRGA3"
   },
   "source": [
    "<h2><font color=\"orange\"><b>EXERCICE 3</b></font></h2>\n",
    "<hr color=\"orange\">\n",
    "\n",
    "1/ Ecrire le code qui représente l'arbre fourni dans la feuille de figures.\n",
    "\n",
    "2/ Ecrire le code d'une fonction <code>caracteres_monstre</code> qui prend en paramètres l'arbre et trois booléens et renvoie les caractères et le nom du monstre correspondant.\n",
    "\n",
    "<b>Exemples :</b><br>\n",
    "<code>caractere_monstre(arbre, True, False, True)</code> renvoie <code>(\"Monstre 3\",\"crête\", \"pas orange\", \"jaune\")</code><br>\n",
    "<code>caractere_monstre(arbre, False, True, True)</code> renvoie <code>(\"Monstre 5\",\"pas crête\", \"cornes\", \"3 yeux\")</code>\n"
   ]
  },
  {
   "cell_type": "code",
   "execution_count": null,
   "metadata": {
    "id": "TiS6qFdeaIJG"
   },
   "outputs": [],
   "source": [
    "def caracteres_monstres(arbre, b1, b2, b3):\n",
    "    current = arbre.root\n",
    "    if b1:\n",
    "        current = current.right\n",
    "        if b2:\n",
    "            current = current.right\n",
    "            if b3:\n",
    "                current = current.right\n",
    "            else:\n",
    "                current = current.left\n",
    "        else:\n",
    "            current = current.left\n",
    "            if b3:\n",
    "                current = current.right\n",
    "            else:\n",
    "                current = current.left\n",
    "\n",
    "    else:\n",
    "        current = current.left\n",
    "        if b2:\n",
    "            current = current.right\n",
    "            if b3:\n",
    "                current = current.right\n",
    "            else:\n",
    "                current = current.left\n",
    "        else:\n",
    "            current = current.left\n",
    "            if b3:\n",
    "                current = current.right\n",
    "            else:\n",
    "                current = current.left\n",
    "\n",
    "    return current.value"
   ]
  },
  {
   "cell_type": "code",
   "execution_count": null,
   "metadata": {
    "id": "agXcf1GLeegc"
   },
   "outputs": [],
   "source": []
  }
 ],
 "metadata": {
  "colab": {
   "collapsed_sections": [],
   "name": "1_4_Arbres_enonce.ipynb",
   "provenance": []
  },
  "interpreter": {
   "hash": "e17bb83875a4efe41c12d9be723e5a91669b63d86b501f77516a62e0bdbf0463"
  },
  "kernelspec": {
   "display_name": "Python 3.9.7 64-bit",
   "name": "python3"
  },
  "language_info": {
   "codemirror_mode": {
    "name": "ipython",
    "version": 3
   },
   "file_extension": ".py",
   "mimetype": "text/x-python",
   "name": "python",
   "nbconvert_exporter": "python",
   "pygments_lexer": "ipython3",
   "version": "3.9.7"
  }
 },
 "nbformat": 4,
 "nbformat_minor": 1
}
