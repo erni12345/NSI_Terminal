{
 "cells": [
  {
   "cell_type": "markdown",
   "source": [
    "<h1><font color=\"orange\"><b>1.2.3.PILES : Permutation circulaire </b></font></h1>\n",
    "<hr color=\"orange\">\n",
    "\n",
    "Ecrire une fonction <code>stack_circperm</code> qui reçoit en argument une pile s et un entier n et\n",
    "effectue sur la pile n permutations circulaires successives.\n",
    "Dans cet exercice, c’est la pile s elle-même qui sera modifiée.\n",
    "\n",
    "Exemple avec n=2 :\n",
    "7 98 11 2 103\n",
    "donnera \n",
    "98 2 103 7 11\n",
    "\n"
   ],
   "metadata": {}
  },
  {
   "cell_type": "code",
   "execution_count": 10,
   "source": [
    "class Node:\r\n",
    "    def __init__(self,v,s):\r\n",
    "        self.valeur=v\r\n",
    "        self.suivant=s\r\n",
    "\r\n",
    "class PileBis:\r\n",
    "  \"\"\"structure de pile via liste chaînée\"\"\"\r\n",
    "  def __init__(self):\r\n",
    "      self.memory = None\r\n",
    "    \r\n",
    "  def push(self, item):\r\n",
    "      self.memory = Node(item, self.memory)\r\n",
    "    \r\n",
    "  def pop(self):\r\n",
    "      k = self.memory\r\n",
    "      self.memory = self.memory.suivant\r\n",
    "      return k\r\n",
    "\r\n",
    "  def peek(self):\r\n",
    "    return self.memory.valeur\r\n",
    "  \r\n",
    "  def is_empty(self):\r\n",
    "    return self.memory == None\r\n",
    "\r\n",
    "\r\n",
    "  def height(self):\r\n",
    "\r\n",
    "    size = 0\r\n",
    "    current = self.memory\r\n",
    "    while current is not None:\r\n",
    "      size += 1\r\n",
    "      current = current.suivant\r\n",
    "\r\n",
    "    return size\r\n",
    "\r\n",
    "  def show(self):\r\n",
    "\r\n",
    "    print(\"Pile: \")\r\n",
    "\r\n",
    "    current = self.memory\r\n",
    "    while current is not None:\r\n",
    "      print(current.valeur)\r\n",
    "      current = current.suivant\r\n",
    "\r\n",
    "\r\n",
    "\r\n",
    "  def stack_circperm(self,n):\r\n",
    "      \r\n",
    "      aux1 = PileBis()\r\n",
    "      aux2 = PileBis()\r\n",
    "      for x in range(n):\r\n",
    "        aux1.push(self.pop().valeur)\r\n",
    "\r\n",
    "      for x in range(self.height()):\r\n",
    "          aux2.push(self.pop().valeur)\r\n",
    "\r\n",
    "      for x in range(aux1.height()):\r\n",
    "        self.push(aux1.pop().valeur)\r\n",
    "\r\n",
    "      for x in range(aux2.height()):\r\n",
    "          self.push(aux2.pop().valeur)\r\n",
    "\r\n",
    "\r\n",
    "\r\n",
    "\r\n",
    "stack = PileBis()\r\n",
    "stack.push(1)\r\n",
    "stack.push(2)\r\n",
    "stack.push(3)\r\n",
    "stack.push(4)\r\n",
    "stack.push(5)\r\n",
    "stack.push(6)\r\n",
    "\r\n",
    "stack.stack_circperm(2)\r\n",
    "\r\n",
    "stack.show()\r\n"
   ],
   "outputs": [
    {
     "output_type": "stream",
     "name": "stdout",
     "text": [
      "Pile: \n",
      "4\n",
      "3\n",
      "2\n",
      "1\n",
      "6\n",
      "5\n"
     ]
    }
   ],
   "metadata": {}
  }
 ],
 "metadata": {
  "kernelspec": {
   "name": "python3",
   "display_name": "Python 3.9.7 64-bit (windows store)"
  },
  "language_info": {
   "codemirror_mode": {
    "name": "ipython",
    "version": 3
   },
   "file_extension": ".py",
   "mimetype": "text/x-python",
   "name": "python",
   "nbconvert_exporter": "python",
   "pygments_lexer": "ipython3",
   "version": "3.9.7"
  },
  "interpreter": {
   "hash": "4b118362352e98c22cbf7aa213cce365ea9234f201de29505c17798d01848352"
  }
 },
 "nbformat": 4,
 "nbformat_minor": 4
}